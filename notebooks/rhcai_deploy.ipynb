{
 "cells": [
  {
   "cell_type": "code",
   "execution_count": null,
   "id": "load-env-vars",
   "metadata": {},
   "outputs": [],
   "source": [
    "# Load OpenShift credentials from the .env file\n",
    "from dotenv import load_dotenv\n",
    "import os\n",
    "import tempfile\n",
    "\n",
    "# Load the environment variables from .env\n",
    "load_dotenv('.env')\n",
    "\n",
    "# Get the cluster URL and token\n",
    "CLUSTER_URL = os.getenv('CLUSTER_URL')\n",
    "TOKEN = os.getenv('TOKEN')\n",
    "\n",
    "# Validate that both variables are available\n",
    "if not CLUSTER_URL or not TOKEN:\n",
    "    raise ValueError(\"CLUSTER_URL or TOKEN not found in the .env file\")"
   ]
  },
  {
   "cell_type": "code",
   "execution_count": null,
   "id": "login-to-openshift",
   "metadata": {},
   "outputs": [],
   "source": [
    "# Log in to the OpenShift cluster using credentials from the .env file\n",
    "!oc login {CLUSTER_URL} --token={TOKEN} --insecure-skip-tls-verify"
   ]
  },
  {
   "cell_type": "code",
   "execution_count": null,
   "id": "verify-login",
   "metadata": {},
   "outputs": [],
   "source": [
    "# Verify login and context\n",
    "!oc whoami\n",
    "!oc status"
   ]
  },
  {
   "cell_type": "code",
   "execution_count": null,
   "id": "check-prerequisites",
   "metadata": {},
   "outputs": [],
   "source": [
    "# Ensure required tools are installed\n",
    "!which oc || echo 'OpenShift CLI (oc) is not installed. Please install it before proceeding.'\n",
    "!which git || echo 'Git is not installed. Please install it before proceeding.'\n",
    "!which helm || echo 'Helm is not installed. Please install it before proceeding.'"
   ]
  },
  {
   "cell_type": "code",
   "execution_count": null,
   "id": "clone-repositories",
   "metadata": {},
   "outputs": [],
   "source": [
    "# Clone the necessary repositories into a temporary directory\n",
    "import tempfile\n",
    "import shutil\n",
    "\n",
    "# Create a temporary directory\n",
    "temp_dir = tempfile.mkdtemp()\n",
    "print(f'Temporary directory created at: {temp_dir}')\n",
    "\n",
    "# Clone the repositories\n",
    "!git clone https://github.com/rrbanda/cluster-gitops.git {temp_dir}/cluster-gitops\n",
    "!git clone https://github.com/rrbanda/appOfApps.git {temp_dir}/appOfApps"
   ]
  },
  {
   "cell_type": "code",
   "execution_count": null,
   "id": "setup-cluster-gitops",
   "metadata": {},
   "outputs": [],
   "source": [
    "# Navigate to the cluster-gitops directory and execute its setup commands\n",
    "%cd {temp_dir}/cluster-gitops\n",
    "!echo \"Running cluster-gitops setup commands...\"\n",
    "!chmod +x bootstrap.sh\n",
    "!./bootstrap.sh\n",
    "# Wait for the bootstrap process to complete\n",
    "import time\n",
    "time.sleep(300)  # Wait for 5 minutes\n",
    "%cd -"
   ]
  },
  {
   "cell_type": "code",
   "execution_count": null,
   "id": "setup-appofapps",
   "metadata": {},
   "outputs": [],
   "source": [
    "# Navigate to the appOfApps directory and execute its setup commands\n",
    "%cd {temp_dir}/appOfApps\n",
    "!echo \"Running appOfApps setup commands...\"\n",
    "!chmod +x setup.sh\n",
    "!./setup.sh\n",
    "# Wait for the setup process to complete\n",
    "import time\n",
    "time.sleep(300)  # Wait for 5 minutes\n",
    "%cd -"
   ]
  },
  {
   "cell_type": "code",
   "execution_count": null,
   "id": "cleanup-temp-dir",
   "metadata": {},
   "outputs": [],
   "source": [
    "# Clean up the temporary directory\n",
    "print(f'Cleaning up temporary directory: {temp_dir}')\n",
    "shutil.rmtree(temp_dir)"
   ]
  }
 ],
 "metadata": {
  "kernelspec": {
   "display_name": "Python 3",
   "language": "python",
   "name": "python3"
  },
  "language_info": {
   "codemirror_mode": {
    "name": "ipython",
    "version": 3
   },
   "file_extension": ".py",
   "mimetype": "text/x-python",
   "name": "python",
   "nbconvert_exporter": "python",
   "pygments_lexer": "ipython3",
   "version": "3.8.5"
  }
 },
 "nbformat": 4,
 "nbformat_minor": 5
}
